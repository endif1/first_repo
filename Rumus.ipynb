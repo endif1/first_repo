{
 "cells": [
  {
   "cell_type": "markdown",
   "metadata": {},
   "source": [
    "### Dic ###"
   ]
  },
  {
   "cell_type": "code",
   "execution_count": null,
   "metadata": {},
   "outputs": [],
   "source": [
    "import pandas as pd #Import Pandas\n",
    "import numpy as np #Import Numpy\n",
    "import matplotlib.pyplot as plt #Import Pyplot\n",
    "import seaborn as sns #Import Seaborn\n",
    "from sklearn.model_selection import train_test_split # pembagi dataset menjadi training dan testing set\n",
    "from sklearn.metrics import accuracy_score,confusion_matrix, classification_report # evaluasi performa model\n",
    "from sklearn.tree import DecisionTreeRegressor #Machine Learning\n",
    "from sklearn.model_selection import train_test_split #Machine Learning\n",
    "from sklearn.ensemble import RandomForestRegressor #Machine Learning\n",
    "from sklearn.metrics import mean_absolute_error #Machine Learning"
   ]
  },
  {
   "cell_type": "code",
   "execution_count": null,
   "metadata": {},
   "outputs": [],
   "source": [
    "df=pd.read_FormatFile('nama file.format file') #Membaca File"
   ]
  },
  {
   "cell_type": "code",
   "execution_count": null,
   "metadata": {},
   "outputs": [],
   "source": [
    "df.shape #Menghitung Kolom dan Baris"
   ]
  },
  {
   "cell_type": "code",
   "execution_count": null,
   "metadata": {},
   "outputs": [],
   "source": [
    "df.duplicated().value_counts() #Menghitung jumalh duplicate"
   ]
  },
  {
   "cell_type": "code",
   "execution_count": null,
   "metadata": {},
   "outputs": [],
   "source": [
    "df.describe() #Menghitung perbandingan format numeric dengan kolom lainnya"
   ]
  },
  {
   "cell_type": "code",
   "execution_count": null,
   "metadata": {},
   "outputs": [],
   "source": [
    "sns.heatmap(data=df.corr()) #Menghitung Korelasi dengan Kolom antar Kolom"
   ]
  },
  {
   "cell_type": "code",
   "execution_count": null,
   "metadata": {},
   "outputs": [],
   "source": [
    "df['Nama Kolom'] = pd.to_datetime(df['Nama Kolom'], errors = 'coerce') #Mengubah tipe kolom menjadi date time"
   ]
  },
  {
   "cell_type": "code",
   "execution_count": null,
   "metadata": {},
   "outputs": [],
   "source": [
    "df.info() #Melihat tipe data pada setiap Kolom"
   ]
  },
  {
   "cell_type": "code",
   "execution_count": null,
   "metadata": {},
   "outputs": [],
   "source": [
    "df.sort_values(by=['Nama Kolom'], inplace=True, ascending=True) #Sortir Kolom  berdasar kan Value"
   ]
  },
  {
   "cell_type": "code",
   "execution_count": null,
   "metadata": {},
   "outputs": [],
   "source": [
    "df.head() #Menampilkan 5 baris pertama dalam file"
   ]
  },
  {
   "cell_type": "code",
   "execution_count": null,
   "metadata": {},
   "outputs": [],
   "source": [
    "keys = [pair for pair, df in df.groupby(['Item Type'])]\n",
    "\n",
    "plt.bar(keys,df.groupby(['Item Type']).sum()['Total Profit']) \n",
    "plt.xticks(keys, rotation=90, size=8)\n",
    "plt.ylabel('Sales in USD ($)')\n",
    "plt.xlabel('Item Type')\n",
    "plt.show()\n",
    "#Groupby untuk menjadikan value dalam sebuah kolom menjadi 1 grup\n",
    "#bar adalah isi dari sumbu x dan y (Y terlebih dahulu) nantinya akan ditampilkan dalam bentuk bar\n",
    "#sum adalah menjumlahkan value dalam satu kolom\n",
    "#xticks adalah model tulisan pada sumbu x\n",
    "#ylabel adalah judul pada sumbu y\n",
    "#xlabel adalah judul pada sumbu x\n",
    "#.show untuk memunculkan grafik"
   ]
  },
  {
   "cell_type": "code",
   "execution_count": null,
   "metadata": {},
   "outputs": [],
   "source": [
    "keys = [pair for pair, df in df.groupby(['Hari'])]\n",
    "\n",
    "plt.plot(keys, df.groupby(['Hari']).count()['Kategori'])\n",
    "plt.xticks(keys)\n",
    "plt.grid()\n",
    "plt.show()\n",
    "#Groupby untuk menjadikan value dalam sebuah kolom menjadi 1 grup\n",
    "#bar adalah isi dari sumbu x dan y (Y terlebih dahulu) nanti akan ditampilkan dalam bentuk plot\n",
    "#sum adalah menjumlahkan value dalam satu kolom\n",
    "#xticks adalah model tulisan pada sumbu x\n",
    "#.show untuk memunculkan grafik"
   ]
  },
  {
   "cell_type": "code",
   "execution_count": null,
   "metadata": {},
   "outputs": [],
   "source": [
    "df.isna().values.any() #mencari Missing Value"
   ]
  },
  {
   "cell_type": "code",
   "execution_count": null,
   "metadata": {},
   "outputs": [],
   "source": [
    "df[\"Nama Kolom\"].fillna(\"Kata Pengganti\", inplace = True) #Mengisi Missing Value dengan Value baru"
   ]
  },
  {
   "cell_type": "code",
   "execution_count": null,
   "metadata": {},
   "outputs": [],
   "source": [
    "df=df.dropna(axis=1,how='any') #Menghapus semua Kolom dengan Missing Value"
   ]
  },
  {
   "cell_type": "code",
   "execution_count": null,
   "metadata": {},
   "outputs": [],
   "source": [
    "df = df.drop('Nama Kolom', 1) #Menghapus sebuah Kolom\n",
    "df = df.drop('Nama baris', 0) #Menghapus sebuah Baris"
   ]
  },
  {
   "cell_type": "code",
   "execution_count": null,
   "metadata": {},
   "outputs": [],
   "source": [
    "df=df.rename(columns={\"Nama Lama\": \"Nama Baru\",\"Nama Lama2\": \"Nama Baru2\", \"Nama Lama3\": \"Nama Baru3\",})\n",
    "#Mengubah nama beberapa Kolom"
   ]
  },
  {
   "cell_type": "code",
   "execution_count": null,
   "metadata": {},
   "outputs": [],
   "source": [
    "df = df[df.Nama_Kolom != 'Value'] #Menghapus value tertentu dalam sebuah Kolom"
   ]
  },
  {
   "cell_type": "code",
   "execution_count": null,
   "metadata": {},
   "outputs": [],
   "source": [
    "df['Hari'] = df['Kolom date']\n",
    "df['Kolom Date'] = pd.to_datetime(df['Kolom Date'])\n",
    "df['Hari'] = df['Kolom Date'].dt.dayofweek\n",
    "\n",
    "days = {0:'Senin',1:'Selasa',2:'Rabu',3:'Kamis',4:'Jumat',5:'Sabtu',6:'Minggu'}\n",
    "\n",
    "df['Hari'] = df['Hari'].apply(lambda x: days[x])\n",
    "#Membuat Kolom Hari berdasarkan Kolom Date \n",
    "#Kolom Date harus bertipe date time"
   ]
  },
  {
   "cell_type": "code",
   "execution_count": null,
   "metadata": {},
   "outputs": [],
   "source": [
    "df['Kolom Date'].dt.week\n",
    "df['Minggu'] = df['Kolom Date'].dt.week\n",
    "#Membuat Kolom Minggu Berdasarkan Kolom Date\n",
    "#Kolom Date harus Bertipe Date time"
   ]
  },
  {
   "cell_type": "code",
   "execution_count": null,
   "metadata": {},
   "outputs": [],
   "source": [
    "df['Bulan'] = df[' Kolom date'].dt.strftime('%b')\n",
    "#Membuat Kolom Bulan berdasarkan Kolom Date"
   ]
  },
  {
   "cell_type": "code",
   "execution_count": null,
   "metadata": {},
   "outputs": [],
   "source": [
    "df.to_excel(\"Nama Filebaru.Format\", index=False) #Membuat file baru berdasarkan Dataframe"
   ]
  }
 ],
 "metadata": {
  "kernelspec": {
   "display_name": "Python 3",
   "language": "python",
   "name": "python3"
  },
  "language_info": {
   "codemirror_mode": {
    "name": "ipython",
    "version": 3
   },
   "file_extension": ".py",
   "mimetype": "text/x-python",
   "name": "python",
   "nbconvert_exporter": "python",
   "pygments_lexer": "ipython3",
   "version": "3.7.6"
  }
 },
 "nbformat": 4,
 "nbformat_minor": 4
}
